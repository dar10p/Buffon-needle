{
  "cells": [
    {
      "cell_type": "markdown",
      "source": [
        "# Integrating various kernels into Jupyter"
      ],
      "metadata": {}
    },
    {
      "cell_type": "markdown",
      "source": [
        "## Introduction"
      ],
      "metadata": {}
    },
    {
      "cell_type": "markdown",
      "source": [
        "Jupyter notebooks provides a powerful tool to propagate our works. They can be used to integrate various kernels into one interface: Matlab, Mathematica and Python for example. \n",
        "Moreover, all the writings can be performed in `Markdown` which is based on `html` and $\\LaTeX$ approach to writing. "
      ],
      "metadata": {}
    },
    {
      "cell_type": "markdown",
      "source": [
        "This is `Markdown`, and as you see is very *nice* and **handy**. An inline formula here $a_n$, and an eqution below $\\downarrow$\n",
        "\n",
        "$$\\frac{\\sqrt{2} \\sqrt{z} j_{\\nu - \\frac{1}{2}}\\left(z\\right)}{\\sqrt{\\pi}}.$$"
      ],
      "metadata": {}
    },
    {
      "cell_type": "markdown",
      "source": [
        "To download the nicest packages you need to install [Anaconda](http://docs.anaconda.com/anaconda/install/) with the\n",
        "latest version of *Phyton* (3.5 or above). This will give you the first and original kernel of the conda enviroment. \n",
        "You will need to create a user profile to make it work, and share notebooks with other people.\n",
        "\n",
        "Then you need to download [nteract](https://nteract.io), which let's you maniplate several kernels from a very nice \n",
        "notebook *á lá Mathematica* interface. You will need to create a GitHub account to share the \n",
        "notebooks from *nteract* (you already did it for *Mathlab*). Read [**this**](https://blog.nteract.io/nteract-revolutionizing-the-notebook-experience-d106ca5d2c38)\n",
        "to see all the powerfull ways of showing off your scientific document."
      ],
      "metadata": {}
    },
    {
      "cell_type": "markdown",
      "source": [
        "![nteract download page](https://i.imgur.com/VQ7oyBk.jpg)"
      ],
      "metadata": {}
    },
    {
      "cell_type": "markdown",
      "source": [
        "## Additional Kernels (Matlab and Mathematica)"
      ],
      "metadata": {}
    },
    {
      "cell_type": "markdown",
      "source": [
        "The *Matlab kernel* for Jupyter needs to [downloaded](https://github.com/Calysto/matlab_kernel). \n",
        "Before running this setup using `$pip install matlab_kernel` you need to have installed the [Matlab engine for Python](https://www.mathworks.com/help/matlab/matlab-engine-for-python.html).\n"
      ],
      "metadata": {}
    },
    {
      "cell_type": "markdown",
      "source": [
        "If everything ran smoothly you should be able to switch to *Matlab kernel*. In *Phyton* versions greater than *3.6*, an error will occur when loading the Jupyter kernel. Although it will solved some time in the near future, a work around exists replacing `line 251` in the `kernel.py` file found at `/Users/<user>/anaconda3/lib/python3.7/site-packages/matlab_kernel/` by \n",
        "\n",
        "    251     future = self._matlab.eval(code, **{ 'nargout': 0, 'async': True})."
      ],
      "metadata": {}
    },
    {
      "cell_type": "markdown",
      "source": [
        "![](https://imgur.com/930hL4c.jpg)"
      ],
      "metadata": {}
    },
    {
      "cell_type": "markdown",
      "source": [
        "Once everything is settle down, you can run it"
      ],
      "metadata": {}
    },
    {
      "cell_type": "code",
      "source": [
        "disp('hello from MATLAB')"
      ],
      "outputs": [
        {
          "output_type": "stream",
          "name": "stdout",
          "text": [
            "hello from MATLAB\n"
          ]
        }
      ],
      "execution_count": 1,
      "metadata": {
        "inputHidden": false,
        "outputHidden": false,
        "scrolled": true
      }
    },
    {
      "cell_type": "markdown",
      "source": [
        "On the other hand, Wolfram has introduced a *Link* between **Mathematica** and Python. Your kernel should be set to Python. Then,"
      ],
      "metadata": {}
    },
    {
      "cell_type": "code",
      "source": [
        "from wolframclient.evaluation import WolframLanguageSession"
      ],
      "outputs": [],
      "execution_count": 1,
      "metadata": {
        "inputHidden": false,
        "outputHidden": false
      }
    },
    {
      "cell_type": "code",
      "source": [
        "from wolframclient.language import *"
      ],
      "outputs": [],
      "execution_count": 2,
      "metadata": {
        "inputHidden": false,
        "outputHidden": false
      }
    },
    {
      "cell_type": "code",
      "source": [
        "session = WolframLanguageSession()"
      ],
      "outputs": [],
      "execution_count": 3,
      "metadata": {
        "inputHidden": false,
        "outputHidden": false
      }
    },
    {
      "cell_type": "markdown",
      "source": [
        "This three lines are required to create a Mathematica Session in Python."
      ],
      "metadata": {}
    },
    {
      "cell_type": "code",
      "source": [
        "session.evaluate(wlexpr('Range[5]'))"
      ],
      "outputs": [
        {
          "output_type": "execute_result",
          "execution_count": 4,
          "data": {
            "text/plain": [
              "[1, 2, 3, 4, 5]"
            ]
          },
          "metadata": {}
        }
      ],
      "execution_count": 4,
      "metadata": {
        "inputHidden": false,
        "outputHidden": false
      }
    },
    {
      "cell_type": "markdown",
      "source": [
        "A basic symbolic evaluatio looks like this."
      ],
      "metadata": {}
    },
    {
      "cell_type": "code",
      "source": [
        "session.evaluate('Expand[(x+1)^2] // MatrixForm')"
      ],
      "outputs": [
        {
          "output_type": "execute_result",
          "execution_count": 7,
          "data": {
            "text/plain": [
              "MatrixForm[Plus[1, Times[2, Global`x], Power[Global`x, 2]]]"
            ]
          },
          "metadata": {}
        }
      ],
      "execution_count": 7,
      "metadata": {
        "inputHidden": false,
        "outputHidden": false
      }
    },
    {
      "cell_type": "markdown",
      "source": [
        "which is not so useful... imagine a BesselJ assymptotic expansion:"
      ],
      "metadata": {}
    },
    {
      "cell_type": "code",
      "source": [
        "session.evaluate('Series[BesselJ[nu, x], {x, Infinity, 2}]')"
      ],
      "outputs": [
        {
          "output_type": "execute_result",
          "execution_count": 99,
          "data": {
            "text/plain": [
              "Plus[Times[Cos[SeriesData[Global`x, DirectedInfinity[1], << 2 >>, 3, 1]], SeriesData[Global`x, DirectedInfinity[1], << 2 >>, 5, 2]], Times[SeriesData[Global`x, DirectedInfinity[1], << 2 >>, 5, 2], Sin[SeriesData[Global`x, DirectedInfinity[1], << 2 >>, 3, 1]]]]"
            ]
          },
          "metadata": {}
        }
      ],
      "execution_count": 99,
      "metadata": {
        "inputHidden": false,
        "outputHidden": false
      }
    },
    {
      "cell_type": "markdown",
      "source": [
        "It becomes unreadeable. An `ExporString` function must be called, but still"
      ],
      "metadata": {}
    },
    {
      "cell_type": "code",
      "source": [
        "session.evaluate('ExportString[Expand[(1+x)^2], \"TeXFragment\"]')"
      ],
      "outputs": [
        {
          "output_type": "execute_result",
          "execution_count": 100,
          "data": {
            "text/plain": [
              "'\\\\[1+2 x+x^2\\\\]\\n\\n'"
            ]
          },
          "metadata": {}
        }
      ],
      "execution_count": 100,
      "metadata": {
        "inputHidden": false,
        "outputHidden": false
      }
    },
    {
      "cell_type": "markdown",
      "source": [
        "It is almos $\\LaTeX$. But you need to replace `'\\\\[` and `\\\\]\\n\\n'` by `$$` $$1+2 x+x^2$$ to make it friendly. For more long calculations like this"
      ],
      "metadata": {}
    },
    {
      "cell_type": "code",
      "source": [
        "session.evaluate('ExportString[Series[BesselJ[n, x], {x, Infinity, 2}],\"TeXFragment\"]')"
      ],
      "outputs": [
        {
          "output_type": "execute_result",
          "execution_count": 119,
          "data": {
            "text/plain": [
              "'\\\\[\\\\text{Cos}\\\\left[-x+\\\\frac{1}{4} (\\\\pi +2 n \\\\pi )+O\\\\left[\\\\frac{1}{x}\\\\right]^3\\\\right] \\\\left(\\\\sqrt{\\\\frac{2}{\\\\pi }} \\\\sqrt{\\\\frac{1}{x}}+O\\\\left[\\\\frac{1}{x}\\\\right]^{5/2}\\\\right)+\\\\left(\\\\frac{\\\\left(-1+4\\nn^2\\\\right) \\\\left(\\\\frac{1}{x}\\\\right)^{3/2}}{4 \\\\sqrt{2 \\\\pi }}+O\\\\left[\\\\frac{1}{x}\\\\right]^{5/2}\\\\right) \\\\text{Sin}\\\\left[-x+\\\\frac{1}{4} (\\\\pi +2 n \\\\pi )+O\\\\left[\\\\frac{1}{x}\\\\right]^3\\\\right]\\\\]\\n\\n'"
            ]
          },
          "metadata": {}
        }
      ],
      "execution_count": 119,
      "metadata": {
        "inputHidden": false,
        "outputHidden": false
      }
    },
    {
      "cell_type": "markdown",
      "source": [
        "Then just by *replacing* every `\\\\` by a single `\\` and the ending and \n",
        "beginging makes it difficult and time consuming just for a simple result"
      ],
      "metadata": {}
    },
    {
      "cell_type": "markdown",
      "source": [
        "$$\\left(\\frac{\\left(4 n^2-1\\right) \\left(\\frac{1}{x}\\right)^{3/2}}{4 \\sqrt{2 \\pi }}+O\\left(\\left(\\frac{1}{x}\\right)^{5/2}\\right)\\right) \\sin \\left(-x+\\frac{1}{4} (2 \\pi  n+\\pi )+O\\left(\\left(\\frac{1}{x}\\right)^3\\right)\\right)+\\\\+\\left(\\sqrt{\\frac{2}{\\pi }} \\sqrt{\\frac{1}{x}}+O\\left(\\left(\\frac{1}{x}\\right)^{5/2}\\right)\\right) \\cos \\left(-x+\\frac{1}{4} (2 \\pi  n+\\pi )+O\\left(\\left(\\frac{1}{x}\\right)^3\\right)\\right).$$"
      ],
      "metadata": {}
    },
    {
      "cell_type": "markdown",
      "source": [
        "This is too convoluted, and a simple approach is abscent from *Wolfram* side. \n",
        "It is best to install the [`wolfram kernel`](https://github.com/mmatera/iwolfram) \n",
        "from Mauricio Matera. You need to download it and run (**Windows and Linux**)\n",
        "\n",
        "    $ python setup.py install --mma-exec <Mathematica executable>\n",
        "    \n",
        " On **MacOS** you need to put the script `wmath` \n",
        " into `/Applications/Mathematica.app/Contents/MacOS/` and then `$sudo chmod 755 wmath`. Once this is done, run\n",
        "    \n",
        "    $ python setup.py install --mma-exec /Applications/Mathematica.app/Contents/MacOS/wmath"
      ],
      "metadata": {}
    },
    {
      "cell_type": "markdown",
      "source": [
        "A simple command will look like this"
      ],
      "metadata": {}
    },
    {
      "cell_type": "code",
      "source": [
        "Series[Exp[x],{x,0,3}]"
      ],
      "outputs": [
        {
          "output_type": "execute_result",
          "execution_count": 1,
          "data": {
            "text/plain": [
              "SeriesData[x, 0, {1, 1, 1/2, 1/6}, 0, 4, 1]"
            ]
          },
          "metadata": {}
        }
      ],
      "execution_count": 1,
      "metadata": {}
    },
    {
      "cell_type": "markdown",
      "source": [
        "If you want to have the result expressed in $\\LaTeX$ form just add `//Matrix Form` at the end like this"
      ],
      "metadata": {}
    },
    {
      "cell_type": "code",
      "source": [
        "FunctionExpand[Factorial2[n], Assumptions -> n \\[Element] Integers] //MatrixForm"
      ],
      "outputs": [
        {
          "output_type": "execute_result",
          "execution_count": 1,
          "data": {
            "text/plain": [
              "<IPython.core.display.Latex object>"
            ],
            "text/latex": [
              "$2^{\\frac{n}{2}+\\frac{1}{4} (1-\\cos (\\pi  n))} \\pi ^{\\frac{1}{4} (\\cos (\\pi  n)-1)} \\Gamma \\left(\\frac{n}{2}+1\\right)$"
            ]
          },
          "metadata": {}
        }
      ],
      "execution_count": 1,
      "metadata": {}
    },
    {
      "cell_type": "code",
      "source": [
        "Series[BesselJ[n,x],{x,Infinity,1}] //MatrixForm"
      ],
      "outputs": [
        {
          "output_type": "execute_result",
          "execution_count": 2,
          "data": {
            "text/plain": [
              "<IPython.core.display.Latex object>"
            ],
            "text/latex": [
              "$\\left(\\frac{\\left(4 n^2-1\\right) \\left(\\frac{1}{x}\\right)^{3/2}}{4 \\sqrt{2 \\pi }}+O\\left(\\left(\\frac{1}{x}\\right)^2\\right)\\right) \\sin \\left(-x+\\frac{1}{4} (2 \\pi  n+\\pi )+O\\left(\\left(\\frac{1}{x}\\right)^2\\right)\\right)+\\left(\\sqrt{\\frac{2}{\\pi }} \\sqrt{\\frac{1}{x}}+O\\left(\\left(\\frac{1}{x}\\right)^{3/2}\\right)\\right) \\cos \\left(-x+\\frac{1}{4} (2 \\pi  n+\\pi )+O\\left(\\left(\\frac{1}{x}\\right)^2\\right)\\right)$"
            ]
          },
          "metadata": {}
        }
      ],
      "execution_count": 2,
      "metadata": {}
    },
    {
      "cell_type": "markdown",
      "source": [
        "But if you want just the $\\LaTeX$ code ouput use `TexForm` like this"
      ],
      "metadata": {}
    },
    {
      "cell_type": "code",
      "source": [
        "TeXForm[Series[BesselJ[n,x],{x,Infinity,1}]]"
      ],
      "outputs": [
        {
          "output_type": "execute_result",
          "execution_count": 4,
          "data": {
            "text/plain": [
              "\\left(\\frac{\\left(4 n^2-1\\right) \\left(\\frac{1}{x}\\right)^{3/2}}{4 \\sqrt{2 \\pi }}+O\\left(\\left(\\frac{1}{x}\\right)^2\\right)\\right) \\sin \\left(-x+\\frac{1}{4} (2 \\pi  n+\\pi )+O\\left(\\left(\\frac{1}{x}\\right)^2\\right)\\right)+\\left(\\sqrt{\\frac{2}{\\pi }} \\sqrt{\\frac{1}{x}}+O\\left(\\left(\\frac{1}{x}\\right)^{3/2}\\right)\\right) \\cos \\left(-x+\\frac{1}{4} (2 \\pi  n+\\pi )+O\\left(\\left(\\frac{1}{x}\\right)^2\\right)\\right)"
            ]
          },
          "metadata": {}
        }
      ],
      "execution_count": 4,
      "metadata": {}
    },
    {
      "cell_type": "markdown",
      "source": [
        "Some integrals may contain *kernel messages* about potential problems in the expresion"
      ],
      "metadata": {}
    },
    {
      "cell_type": "code",
      "source": [
        "Integrate[\n",
        " Exp[I (A Cos[\\[Theta]] + B Sin[\\[Theta]])], {\\[Theta], 0, 2 \\[Pi]}, Assumptions -> A>0 && B>0] //MatrixForm"
      ],
      "outputs": [
        {
          "output_type": "stream",
          "name": "stderr",
          "text": [
            "\u001b[0;31mInfinity::indet: StringForm[Infinity::indet /. Messages[Infinity], HoldForm[0*Infinity]]\n",
            "\n",
            "\u001b[0m\u001b[0;31mInfinity::indet: StringForm[Infinity::indet /. Messages[Infinity], HoldForm[0*Infinity]]\n",
            "\n",
            "\u001b[0m\u001b[0;31mInfinity::indet: StringForm[Infinity::indet /. Messages[Infinity], HoldForm[-Infinity + Infinity]]\n",
            "\n",
            "\u001b[0m\u001b[0;31mInfinity::indet: StringForm[Infinity::indet /. Messages[Infinity], HoldForm[-Infinity + Infinity]]\n",
            "\n",
            "\u001b[0m\u001b[0;31mInfinity::indet: StringForm[Infinity::indet /. Messages[Infinity], HoldForm[E^ComplexInfinity]]\n",
            "\n",
            "\u001b[0m\u001b[0;31mInfinity::indet: StringForm[Infinity::indet /. Messages[Infinity], HoldForm[E^ComplexInfinity]]\n",
            "\n",
            "\u001b[0m\u001b[0;31mInfinity::indet: StringForm[Infinity::indet /. Messages[Infinity], HoldForm[E^ComplexInfinity]]\n",
            "\n",
            "\u001b[0m\u001b[0;31mInfinity::indet: StringForm[Infinity::indet /. Messages[Infinity], HoldForm[E^ComplexInfinity]]\n",
            "\n",
            "\u001b[0m\u001b[0;31mInfinity::indet: StringForm[Infinity::indet /. Messages[Infinity], HoldForm[E^ComplexInfinity]]\n",
            "\n",
            "\u001b[0m\u001b[0;31mInfinity::indet: StringForm[Infinity::indet /. Messages[Infinity], HoldForm[0*Infinity]]\n",
            "\n",
            "\u001b[0m\u001b[0;31mInfinity::indet: StringForm[Infinity::indet /. Messages[Infinity], HoldForm[0*Infinity]]\n",
            "\n",
            "\u001b[0m\u001b[0;31mInfinity::indet: StringForm[Infinity::indet /. Messages[Infinity], HoldForm[0*Infinity]]\n",
            "\n",
            "\u001b[0m\u001b[0;31mInfinity::indet: StringForm[Infinity::indet /. Messages[Infinity], HoldForm[0*Infinity]]\n",
            "\n",
            "\u001b[0m\u001b[0;31mInfinity::indet: StringForm[Infinity::indet /. Messages[Infinity], HoldForm[0*Infinity]]\n",
            "\n",
            "\u001b[0m\u001b[0;31mInfinity::indet: StringForm[Infinity::indet /. Messages[Infinity], HoldForm[0*Infinity]]\n",
            "\n",
            "\u001b[0m\u001b[0;31mInfinity::indet: StringForm[Infinity::indet /. Messages[Infinity], HoldForm[0*Infinity]]\n",
            "\n",
            "\u001b[0m\u001b[0;31mInfinity::indet: StringForm[Infinity::indet /. Messages[Infinity], HoldForm[0*Infinity]]\n",
            "\n",
            "\u001b[0m\u001b[0;31mInfinity::indet: StringForm[Infinity::indet /. Messages[Infinity], HoldForm[-Infinity + Infinity]]\n",
            "\n",
            "\u001b[0m\u001b[0;31mInfinity::indet: StringForm[Infinity::indet /. Messages[Infinity], HoldForm[-Infinity + Infinity]]\n",
            "\n",
            "\u001b[0m\u001b[0;31mInfinity::indet: StringForm[Infinity::indet /. Messages[Infinity], HoldForm[E^ComplexInfinity]]\n",
            "\n",
            "\u001b[0m\u001b[0;31mInfinity::indet: StringForm[Infinity::indet /. Messages[Infinity], HoldForm[E^ComplexInfinity]]\n",
            "\n",
            "\u001b[0m\u001b[0;31mInfinity::indet: StringForm[Infinity::indet /. Messages[Infinity], HoldForm[E^ComplexInfinity]]\n",
            "\n",
            "\u001b[0m\u001b[0;31mInfinity::indet: StringForm[Infinity::indet /. Messages[Infinity], HoldForm[E^ComplexInfinity]]\n",
            "\n",
            "\u001b[0m\u001b[0;31mInfinity::indet: StringForm[Infinity::indet /. Messages[Infinity], HoldForm[E^ComplexInfinity]]\n",
            "\n",
            "\u001b[0m\u001b[0;31mInfinity::indet: StringForm[Infinity::indet /. Messages[Infinity], HoldForm[0*Infinity]]\n",
            "\n",
            "\u001b[0m\u001b[0;31mInfinity::indet: StringForm[Infinity::indet /. Messages[Infinity], HoldForm[0*Infinity]]\n",
            "\n",
            "\u001b[0m\u001b[0;31mInfinity::indet: StringForm[Infinity::indet /. Messages[Infinity], HoldForm[0*Infinity]]\n",
            "\n",
            "\u001b[0m\u001b[0;31mInfinity::indet: StringForm[Infinity::indet /. Messages[Infinity], HoldForm[0*Infinity]]\n",
            "\n",
            "\u001b[0m\u001b[0;31mInfinity::indet: StringForm[Infinity::indet /. Messages[Infinity], HoldForm[0*Infinity]]\n",
            "\n",
            "\u001b[0m\u001b[0;31mInfinity::indet: StringForm[Infinity::indet /. Messages[Infinity], HoldForm[0*Infinity]]\n",
            "\n",
            "\u001b[0m"
          ]
        },
        {
          "output_type": "execute_result",
          "execution_count": 7,
          "data": {
            "text/plain": [
              "<IPython.core.display.Latex object>"
            ],
            "text/latex": [
              "$2 \\pi  J_0\\left(\\sqrt{A^2+B^2}\\right)$"
            ]
          },
          "metadata": {}
        }
      ],
      "execution_count": 7,
      "metadata": {}
    },
    {
      "cell_type": "markdown",
      "source": [
        "Some times this has nothing to do\n",
        "with convergence, but a problem in the *wofram kernel* for Jupyter. If nothing is wrong with the convergence you can turn \n",
        "this messages off using"
      ],
      "metadata": {}
    },
    {
      "cell_type": "code",
      "source": [
        "Off[Infinity::indet,MinValue::lpsub,MaxValue::lpsub];"
      ],
      "outputs": [
        {
          "output_type": "stream",
          "name": "stdout",
          "text": [
            " \n"
          ]
        }
      ],
      "execution_count": 15,
      "metadata": {}
    },
    {
      "cell_type": "code",
      "source": [
        "Integrate[\n",
        " Exp[I (A Cos[\\[Theta]] + B Sin[\\[Theta]])], {\\[Theta], 0, 2 \\[Pi]},Assumptions -> A>0 && B>0] //MatrixForm"
      ],
      "outputs": [
        {
          "output_type": "execute_result",
          "execution_count": 13,
          "data": {
            "text/plain": [
              "<IPython.core.display.Latex object>"
            ],
            "text/latex": [
              "$2 \\pi  J_0\\left(\\sqrt{A^2+B^2}\\right)$"
            ]
          },
          "metadata": {}
        }
      ],
      "execution_count": 13,
      "metadata": {}
    },
    {
      "cell_type": "code",
      "source": [
        "Series[Hypergeometric2F1[a,b,c,x],{x,Infinity,2}]//MatrixForm"
      ],
      "outputs": [
        {
          "output_type": "execute_result",
          "execution_count": 14,
          "data": {
            "text/plain": [
              "<IPython.core.display.Latex object>"
            ],
            "text/latex": [
              "$x^{-a-b} \\left(x^b \\left(\\frac{(-1)^{-a} \\Gamma (b-a) \\Gamma (c)}{\\Gamma (b) \\Gamma (c-a)}+\\frac{(-1)^{-a} a (a-c+1) \\Gamma (b-a) \\Gamma (c)}{(a-b+1) \\Gamma (b) \\Gamma (c-a) x}+\\frac{(-1)^{-a} a (a+1) (a-c+1) (a-c+2) \\Gamma (b-a) \\Gamma (c)}{2 (a-b+1) (a-b+2) \\Gamma (b) \\Gamma (c-a) x^2}+O\\left(\\left(\\frac{1}{x}\\right)^3\\right)\\right)+x^a \\left(\\frac{(-1)^{-b} \\Gamma (a-b) \\Gamma (c)}{\\Gamma (a) \\Gamma (c-b)}+\\frac{(-1)^{-b} b (b-c+1) \\Gamma (a-b) \\Gamma (c)}{(-a+b+1) \\Gamma (a) \\Gamma (c-b) x}+\\frac{(-1)^{-b} b (b+1) (b-c+1) (b-c+2) \\Gamma (a-b) \\Gamma (c)}{2 (-a+b+1) (-a+b+2) \\Gamma (a) \\Gamma (c-b) x^2}+O\\left(\\left(\\frac{1}{x}\\right)^3\\right)\\right)\\right)$"
            ]
          },
          "metadata": {}
        }
      ],
      "execution_count": 14,
      "metadata": {}
    },
    {
      "cell_type": "markdown",
      "source": [
        "This must cover all related to the kernels we are comfortable with. Next update for this notebook will be how to manipulate plots."
      ],
      "metadata": {}
    },
    {
      "cell_type": "markdown",
      "source": [
        "## Some basics IPython"
      ],
      "metadata": {}
    },
    {
      "cell_type": "code",
      "source": [
        "from sympy import *"
      ],
      "outputs": [],
      "execution_count": 1,
      "metadata": {
        "inputHidden": false,
        "outputHidden": false
      }
    },
    {
      "cell_type": "markdown",
      "source": [
        "*imports* everything from sympy "
      ],
      "metadata": {}
    },
    {
      "cell_type": "code",
      "source": [
        "from mpmath import *"
      ],
      "outputs": [],
      "execution_count": 3,
      "metadata": {
        "inputHidden": false,
        "outputHidden": false
      }
    },
    {
      "cell_type": "markdown",
      "source": [
        "*imports* everything from mpath "
      ],
      "metadata": {}
    },
    {
      "cell_type": "code",
      "source": [
        "k, m, n = symbols('k m n', integer=True)"
      ],
      "outputs": [],
      "execution_count": 2,
      "metadata": {
        "inputHidden": false,
        "outputHidden": false
      }
    },
    {
      "cell_type": "code",
      "source": [
        "f, g, h = symbols('f g h', cls=Function)"
      ],
      "outputs": [],
      "execution_count": 3,
      "metadata": {
        "inputHidden": false,
        "outputHidden": false
      }
    },
    {
      "cell_type": "code",
      "source": [
        "x, y, z, nu = symbols('x y z nu')"
      ],
      "outputs": [],
      "execution_count": 4,
      "metadata": {
        "inputHidden": false,
        "outputHidden": false
      }
    },
    {
      "cell_type": "code",
      "source": [
        "from sympy.abc import n,a,b,x"
      ],
      "outputs": [],
      "execution_count": 5,
      "metadata": {
        "inputHidden": false,
        "outputHidden": false
      }
    },
    {
      "cell_type": "code",
      "source": [
        "init_printing()"
      ],
      "outputs": [],
      "execution_count": 6,
      "metadata": {
        "inputHidden": false,
        "outputHidden": false
      }
    },
    {
      "cell_type": "markdown",
      "source": [
        "The code above turns output into $\\LaTeX$ commands."
      ],
      "metadata": {}
    },
    {
      "cell_type": "code",
      "source": [
        "besselj(nu,z).rewrite(jn)"
      ],
      "outputs": [
        {
          "output_type": "execute_result",
          "execution_count": 7,
          "data": {
            "image/png": "[encoded data removed]",
            "text/latex": [
              "$$\\frac{\\sqrt{2} \\sqrt{z} j_{\\nu - \\frac{1}{2}}\\left(z\\right)}{\\sqrt{\\pi}}$$"
            ],
            "text/plain": [
              "√2⋅√z⋅jn(ν - 1/2, z)\n",
              "────────────────────\n",
              "         √π         "
            ]
          },
          "metadata": {}
        }
      ],
      "execution_count": 7,
      "metadata": {
        "inputHidden": false,
        "outputHidden": false
      }
    },
    {
      "cell_type": "code",
      "source": [
        "1/((x+2)*(x+1))"
      ],
      "outputs": [
        {
          "output_type": "execute_result",
          "execution_count": 10,
          "data": {
            "image/png": "[encoded data removed]",
            "text/latex": [
              "$$\\frac{1}{\\left(x + 1\\right) \\left(x + 2\\right)}$$"
            ],
            "text/plain": [
              "       1       \n",
              "───────────────\n",
              "(x + 1)⋅(x + 2)"
            ]
          },
          "metadata": {}
        }
      ],
      "execution_count": 10,
      "metadata": {
        "inputHidden": false,
        "outputHidden": false
      }
    },
    {
      "cell_type": "code",
      "source": [
        "apart(1/((x+2)*(x+1)))"
      ],
      "outputs": [
        {
          "output_type": "execute_result",
          "execution_count": 11,
          "data": {
            "image/png": "[encoded data removed]",
            "text/latex": [
              "$$- \\frac{1}{x + 2} + \\frac{1}{x + 1}$$"
            ],
            "text/plain": [
              "    1       1  \n",
              "- ───── + ─────\n",
              "  x + 2   x + 1"
            ]
          },
          "metadata": {}
        }
      ],
      "execution_count": 11,
      "metadata": {
        "inputHidden": false,
        "outputHidden": false
      }
    },
    {
      "cell_type": "markdown",
      "source": [
        "## Series Expansion"
      ],
      "metadata": {}
    },
    {
      "cell_type": "code",
      "source": [
        "cos(a*x**2).series(x,0,8)"
      ],
      "outputs": [
        {
          "output_type": "execute_result",
          "execution_count": 8,
          "data": {
            "image/png": "[encoded data removed]",
            "text/latex": [
              "$$1 - \\frac{a^{2} x^{4}}{2} + O\\left(x^{8}\\right)$$"
            ],
            "text/plain": [
              "     2  4        \n",
              "    a ⋅x     ⎛ 8⎞\n",
              "1 - ───── + O⎝x ⎠\n",
              "      2          "
            ]
          },
          "metadata": {}
        }
      ],
      "execution_count": 8,
      "metadata": {
        "inputHidden": false,
        "outputHidden": false
      }
    },
    {
      "cell_type": "code",
      "source": [
        "jacobi(2,a,b,x).series(x,0,2)"
      ],
      "outputs": [
        {
          "output_type": "execute_result",
          "execution_count": 9,
          "data": {
            "image/png": "[encoded data removed]",
            "text/latex": [
              "$$- \\frac{1}{2} + x \\left(\\frac{a^{2}}{4} + \\frac{3 a}{4} - \\frac{b^{2}}{4} - \\frac{3 b}{4}\\right) - \\frac{b}{8} + \\frac{b^{2}}{8} - \\frac{a}{8} - \\frac{a b}{4} + \\frac{a^{2}}{8} + O\\left(x^{2}\\right)$$"
            ],
            "text/plain": [
              "        ⎛ 2          2      ⎞        2              2        \n",
              "  1     ⎜a    3⋅a   b    3⋅b⎟   b   b    a   a⋅b   a     ⎛ 2⎞\n",
              "- ─ + x⋅⎜── + ─── - ── - ───⎟ - ─ + ── - ─ - ─── + ── + O⎝x ⎠\n",
              "  2     ⎝4     4    4     4 ⎠   8   8    8    4    8         "
            ]
          },
          "metadata": {}
        }
      ],
      "execution_count": 9,
      "metadata": {
        "inputHidden": false,
        "outputHidden": false
      }
    },
    {
      "cell_type": "code",
      "source": [
        "besselj(n,x).series(x,0,2)"
      ],
      "outputs": [
        {
          "output_type": "execute_result",
          "execution_count": 10,
          "data": {
            "image/png": "[encoded data removed]",
            "text/latex": [
              "$$J_{n}\\left(0\\right) + x \\left(\\frac{J_{n - 1}\\left(0\\right)}{2} - \\frac{J_{n + 1}\\left(0\\right)}{2}\\right) + O\\left(x^{2}\\right)$$"
            ],
            "text/plain": [
              "                  ⎛besselj(n - 1, 0)   besselj(n + 1, 0)⎞    ⎛ 2⎞\n",
              "besselj(n, 0) + x⋅⎜───────────────── - ─────────────────⎟ + O⎝x ⎠\n",
              "                  ⎝        2                   2        ⎠        "
            ]
          },
          "metadata": {}
        }
      ],
      "execution_count": 10,
      "metadata": {
        "inputHidden": false,
        "outputHidden": false
      }
    },
    {
      "cell_type": "code",
      "source": [
        "series(besselj(n,x),x,0,2)"
      ],
      "outputs": [
        {
          "output_type": "execute_result",
          "execution_count": 11,
          "data": {
            "image/png": "[encoded data removed]",
            "text/latex": [
              "$$J_{n}\\left(0\\right) + x \\left(\\frac{J_{n - 1}\\left(0\\right)}{2} - \\frac{J_{n + 1}\\left(0\\right)}{2}\\right) + O\\left(x^{2}\\right)$$"
            ],
            "text/plain": [
              "                  ⎛besselj(n - 1, 0)   besselj(n + 1, 0)⎞    ⎛ 2⎞\n",
              "besselj(n, 0) + x⋅⎜───────────────── - ─────────────────⎟ + O⎝x ⎠\n",
              "                  ⎝        2                   2        ⎠        "
            ]
          },
          "metadata": {}
        }
      ],
      "execution_count": 11,
      "metadata": {
        "inputHidden": false,
        "outputHidden": false
      }
    },
    {
      "cell_type": "markdown",
      "source": [
        "While the line below cannot be evaluated. For $n$ or any fixed value of it."
      ],
      "metadata": {}
    },
    {
      "cell_type": "code",
      "source": [
        "besselj(0,x).series(x,oo,2)"
      ],
      "outputs": [
        {
          "output_type": "error",
          "ename": "PoleError",
          "evalue": "\nAsymptotic expansion of besselj around [0, oo] is not implemented.",
          "traceback": [
            "\u001b[0;31m---------------------------------------------------------------------------\u001b[0m",
            "\u001b[0;31mPoleError\u001b[0m                                 Traceback (most recent call last)",
            "\u001b[0;32m<ipython-input-12-af0b6fe1aa3e>\u001b[0m in \u001b[0;36m<module>\u001b[0;34m\u001b[0m\n\u001b[0;32m----> 1\u001b[0;31m \u001b[0mbesselj\u001b[0m\u001b[0;34m(\u001b[0m\u001b[0;36m0\u001b[0m\u001b[0;34m,\u001b[0m\u001b[0mx\u001b[0m\u001b[0;34m)\u001b[0m\u001b[0;34m.\u001b[0m\u001b[0mseries\u001b[0m\u001b[0;34m(\u001b[0m\u001b[0mx\u001b[0m\u001b[0;34m,\u001b[0m\u001b[0moo\u001b[0m\u001b[0;34m,\u001b[0m\u001b[0;36m2\u001b[0m\u001b[0;34m)\u001b[0m\u001b[0;34m\u001b[0m\u001b[0;34m\u001b[0m\u001b[0m\n\u001b[0m",
            "\u001b[0;32m~/anaconda3/lib/python3.6/site-packages/sympy/core/expr.py\u001b[0m in \u001b[0;36mseries\u001b[0;34m(self, x, x0, n, dir, logx)\u001b[0m\n\u001b[1;32m   2634\u001b[0m         \u001b[0;32mif\u001b[0m \u001b[0mx0\u001b[0m \u001b[0;32min\u001b[0m \u001b[0;34m[\u001b[0m\u001b[0mS\u001b[0m\u001b[0;34m.\u001b[0m\u001b[0mInfinity\u001b[0m\u001b[0;34m,\u001b[0m \u001b[0mS\u001b[0m\u001b[0;34m.\u001b[0m\u001b[0mNegativeInfinity\u001b[0m\u001b[0;34m]\u001b[0m\u001b[0;34m:\u001b[0m\u001b[0;34m\u001b[0m\u001b[0;34m\u001b[0m\u001b[0m\n\u001b[1;32m   2635\u001b[0m             \u001b[0mdir\u001b[0m \u001b[0;34m=\u001b[0m \u001b[0;34m{\u001b[0m\u001b[0mS\u001b[0m\u001b[0;34m.\u001b[0m\u001b[0mInfinity\u001b[0m\u001b[0;34m:\u001b[0m \u001b[0;34m'+'\u001b[0m\u001b[0;34m,\u001b[0m \u001b[0mS\u001b[0m\u001b[0;34m.\u001b[0m\u001b[0mNegativeInfinity\u001b[0m\u001b[0;34m:\u001b[0m \u001b[0;34m'-'\u001b[0m\u001b[0;34m}\u001b[0m\u001b[0;34m[\u001b[0m\u001b[0mx0\u001b[0m\u001b[0;34m]\u001b[0m\u001b[0;34m\u001b[0m\u001b[0;34m\u001b[0m\u001b[0m\n\u001b[0;32m-> 2636\u001b[0;31m             \u001b[0ms\u001b[0m \u001b[0;34m=\u001b[0m \u001b[0mself\u001b[0m\u001b[0;34m.\u001b[0m\u001b[0msubs\u001b[0m\u001b[0;34m(\u001b[0m\u001b[0mx\u001b[0m\u001b[0;34m,\u001b[0m \u001b[0;36m1\u001b[0m\u001b[0;34m/\u001b[0m\u001b[0mx\u001b[0m\u001b[0;34m)\u001b[0m\u001b[0;34m.\u001b[0m\u001b[0mseries\u001b[0m\u001b[0;34m(\u001b[0m\u001b[0mx\u001b[0m\u001b[0;34m,\u001b[0m \u001b[0mn\u001b[0m\u001b[0;34m=\u001b[0m\u001b[0mn\u001b[0m\u001b[0;34m,\u001b[0m \u001b[0mdir\u001b[0m\u001b[0;34m=\u001b[0m\u001b[0mdir\u001b[0m\u001b[0;34m)\u001b[0m\u001b[0;34m\u001b[0m\u001b[0;34m\u001b[0m\u001b[0m\n\u001b[0m\u001b[1;32m   2637\u001b[0m             \u001b[0;32mif\u001b[0m \u001b[0mn\u001b[0m \u001b[0;32mis\u001b[0m \u001b[0;32mNone\u001b[0m\u001b[0;34m:\u001b[0m\u001b[0;34m\u001b[0m\u001b[0;34m\u001b[0m\u001b[0m\n\u001b[1;32m   2638\u001b[0m                 \u001b[0;32mreturn\u001b[0m \u001b[0;34m(\u001b[0m\u001b[0msi\u001b[0m\u001b[0;34m.\u001b[0m\u001b[0msubs\u001b[0m\u001b[0;34m(\u001b[0m\u001b[0mx\u001b[0m\u001b[0;34m,\u001b[0m \u001b[0;36m1\u001b[0m\u001b[0;34m/\u001b[0m\u001b[0mx\u001b[0m\u001b[0;34m)\u001b[0m \u001b[0;32mfor\u001b[0m \u001b[0msi\u001b[0m \u001b[0;32min\u001b[0m \u001b[0ms\u001b[0m\u001b[0;34m)\u001b[0m\u001b[0;34m\u001b[0m\u001b[0;34m\u001b[0m\u001b[0m\n",
            "\u001b[0;32m~/anaconda3/lib/python3.6/site-packages/sympy/core/expr.py\u001b[0m in \u001b[0;36mseries\u001b[0;34m(self, x, x0, n, dir, logx)\u001b[0m\n\u001b[1;32m   2660\u001b[0m             \u001b[0;31m# replace x with an x that has a positive assumption\u001b[0m\u001b[0;34m\u001b[0m\u001b[0;34m\u001b[0m\u001b[0;34m\u001b[0m\u001b[0m\n\u001b[1;32m   2661\u001b[0m             \u001b[0mxpos\u001b[0m \u001b[0;34m=\u001b[0m \u001b[0mDummy\u001b[0m\u001b[0;34m(\u001b[0m\u001b[0;34m'x'\u001b[0m\u001b[0;34m,\u001b[0m \u001b[0mpositive\u001b[0m\u001b[0;34m=\u001b[0m\u001b[0;32mTrue\u001b[0m\u001b[0;34m,\u001b[0m \u001b[0mfinite\u001b[0m\u001b[0;34m=\u001b[0m\u001b[0;32mTrue\u001b[0m\u001b[0;34m)\u001b[0m\u001b[0;34m\u001b[0m\u001b[0;34m\u001b[0m\u001b[0m\n\u001b[0;32m-> 2662\u001b[0;31m             \u001b[0mrv\u001b[0m \u001b[0;34m=\u001b[0m \u001b[0mself\u001b[0m\u001b[0;34m.\u001b[0m\u001b[0msubs\u001b[0m\u001b[0;34m(\u001b[0m\u001b[0mx\u001b[0m\u001b[0;34m,\u001b[0m \u001b[0mxpos\u001b[0m\u001b[0;34m)\u001b[0m\u001b[0;34m.\u001b[0m\u001b[0mseries\u001b[0m\u001b[0;34m(\u001b[0m\u001b[0mxpos\u001b[0m\u001b[0;34m,\u001b[0m \u001b[0mx0\u001b[0m\u001b[0;34m,\u001b[0m \u001b[0mn\u001b[0m\u001b[0;34m,\u001b[0m \u001b[0mdir\u001b[0m\u001b[0;34m,\u001b[0m \u001b[0mlogx\u001b[0m\u001b[0;34m=\u001b[0m\u001b[0mlogx\u001b[0m\u001b[0;34m)\u001b[0m\u001b[0;34m\u001b[0m\u001b[0;34m\u001b[0m\u001b[0m\n\u001b[0m\u001b[1;32m   2663\u001b[0m             \u001b[0;32mif\u001b[0m \u001b[0mn\u001b[0m \u001b[0;32mis\u001b[0m \u001b[0;32mNone\u001b[0m\u001b[0;34m:\u001b[0m\u001b[0;34m\u001b[0m\u001b[0;34m\u001b[0m\u001b[0m\n\u001b[1;32m   2664\u001b[0m                 \u001b[0;32mreturn\u001b[0m \u001b[0;34m(\u001b[0m\u001b[0ms\u001b[0m\u001b[0;34m.\u001b[0m\u001b[0msubs\u001b[0m\u001b[0;34m(\u001b[0m\u001b[0mxpos\u001b[0m\u001b[0;34m,\u001b[0m \u001b[0mx\u001b[0m\u001b[0;34m)\u001b[0m \u001b[0;32mfor\u001b[0m \u001b[0ms\u001b[0m \u001b[0;32min\u001b[0m \u001b[0mrv\u001b[0m\u001b[0;34m)\u001b[0m\u001b[0;34m\u001b[0m\u001b[0;34m\u001b[0m\u001b[0m\n",
            "\u001b[0;32m~/anaconda3/lib/python3.6/site-packages/sympy/core/expr.py\u001b[0m in \u001b[0;36mseries\u001b[0;34m(self, x, x0, n, dir, logx)\u001b[0m\n\u001b[1;32m   2667\u001b[0m \u001b[0;34m\u001b[0m\u001b[0m\n\u001b[1;32m   2668\u001b[0m         \u001b[0;32mif\u001b[0m \u001b[0mn\u001b[0m \u001b[0;32mis\u001b[0m \u001b[0;32mnot\u001b[0m \u001b[0;32mNone\u001b[0m\u001b[0;34m:\u001b[0m  \u001b[0;31m# nseries handling\u001b[0m\u001b[0;34m\u001b[0m\u001b[0;34m\u001b[0m\u001b[0m\n\u001b[0;32m-> 2669\u001b[0;31m             \u001b[0ms1\u001b[0m \u001b[0;34m=\u001b[0m \u001b[0mself\u001b[0m\u001b[0;34m.\u001b[0m\u001b[0m_eval_nseries\u001b[0m\u001b[0;34m(\u001b[0m\u001b[0mx\u001b[0m\u001b[0;34m,\u001b[0m \u001b[0mn\u001b[0m\u001b[0;34m=\u001b[0m\u001b[0mn\u001b[0m\u001b[0;34m,\u001b[0m \u001b[0mlogx\u001b[0m\u001b[0;34m=\u001b[0m\u001b[0mlogx\u001b[0m\u001b[0;34m)\u001b[0m\u001b[0;34m\u001b[0m\u001b[0;34m\u001b[0m\u001b[0m\n\u001b[0m\u001b[1;32m   2670\u001b[0m             \u001b[0mo\u001b[0m \u001b[0;34m=\u001b[0m \u001b[0ms1\u001b[0m\u001b[0;34m.\u001b[0m\u001b[0mgetO\u001b[0m\u001b[0;34m(\u001b[0m\u001b[0;34m)\u001b[0m \u001b[0;32mor\u001b[0m \u001b[0mS\u001b[0m\u001b[0;34m.\u001b[0m\u001b[0mZero\u001b[0m\u001b[0;34m\u001b[0m\u001b[0;34m\u001b[0m\u001b[0m\n\u001b[1;32m   2671\u001b[0m             \u001b[0;32mif\u001b[0m \u001b[0mo\u001b[0m\u001b[0;34m:\u001b[0m\u001b[0;34m\u001b[0m\u001b[0;34m\u001b[0m\u001b[0m\n",
            "\u001b[0;32m~/anaconda3/lib/python3.6/site-packages/sympy/core/function.py\u001b[0m in \u001b[0;36m_eval_nseries\u001b[0;34m(self, x, n, logx)\u001b[0m\n\u001b[1;32m    635\u001b[0m             \u001b[0ma0\u001b[0m \u001b[0;34m=\u001b[0m \u001b[0;34m[\u001b[0m\u001b[0mt\u001b[0m\u001b[0;34m.\u001b[0m\u001b[0mlimit\u001b[0m\u001b[0;34m(\u001b[0m\u001b[0mx\u001b[0m\u001b[0;34m,\u001b[0m \u001b[0;36m0\u001b[0m\u001b[0;34m)\u001b[0m \u001b[0;32mfor\u001b[0m \u001b[0mt\u001b[0m \u001b[0;32min\u001b[0m \u001b[0ma\u001b[0m\u001b[0;34m]\u001b[0m\u001b[0;34m\u001b[0m\u001b[0;34m\u001b[0m\u001b[0m\n\u001b[1;32m    636\u001b[0m             \u001b[0;32mif\u001b[0m \u001b[0many\u001b[0m\u001b[0;34m(\u001b[0m\u001b[0;34m[\u001b[0m\u001b[0mt\u001b[0m\u001b[0;34m.\u001b[0m\u001b[0mhas\u001b[0m\u001b[0;34m(\u001b[0m\u001b[0moo\u001b[0m\u001b[0;34m,\u001b[0m \u001b[0;34m-\u001b[0m\u001b[0moo\u001b[0m\u001b[0;34m,\u001b[0m \u001b[0mzoo\u001b[0m\u001b[0;34m,\u001b[0m \u001b[0mnan\u001b[0m\u001b[0;34m)\u001b[0m \u001b[0;32mfor\u001b[0m \u001b[0mt\u001b[0m \u001b[0;32min\u001b[0m \u001b[0ma0\u001b[0m\u001b[0;34m]\u001b[0m\u001b[0;34m)\u001b[0m\u001b[0;34m:\u001b[0m\u001b[0;34m\u001b[0m\u001b[0;34m\u001b[0m\u001b[0m\n\u001b[0;32m--> 637\u001b[0;31m                 \u001b[0;32mreturn\u001b[0m \u001b[0mself\u001b[0m\u001b[0;34m.\u001b[0m\u001b[0m_eval_aseries\u001b[0m\u001b[0;34m(\u001b[0m\u001b[0mn\u001b[0m\u001b[0;34m,\u001b[0m \u001b[0margs0\u001b[0m\u001b[0;34m,\u001b[0m \u001b[0mx\u001b[0m\u001b[0;34m,\u001b[0m \u001b[0mlogx\u001b[0m\u001b[0;34m)\u001b[0m\u001b[0;34m\u001b[0m\u001b[0;34m\u001b[0m\u001b[0m\n\u001b[0m\u001b[1;32m    638\u001b[0m             \u001b[0;31m# Careful: the argument goes to oo, but only logarithmically so. We\u001b[0m\u001b[0;34m\u001b[0m\u001b[0;34m\u001b[0m\u001b[0;34m\u001b[0m\u001b[0m\n\u001b[1;32m    639\u001b[0m             \u001b[0;31m# are supposed to do a power series expansion \"around the\u001b[0m\u001b[0;34m\u001b[0m\u001b[0;34m\u001b[0m\u001b[0;34m\u001b[0m\u001b[0m\n",
            "\u001b[0;32m~/anaconda3/lib/python3.6/site-packages/sympy/core/function.py\u001b[0m in \u001b[0;36m_eval_aseries\u001b[0;34m(self, n, args0, x, logx)\u001b[0m\n\u001b[1;32m    600\u001b[0m         raise PoleError(filldedent('''\n\u001b[1;32m    601\u001b[0m             \u001b[0mAsymptotic\u001b[0m \u001b[0mexpansion\u001b[0m \u001b[0mof\u001b[0m \u001b[0;34m%\u001b[0m\u001b[0ms\u001b[0m \u001b[0maround\u001b[0m \u001b[0;34m%\u001b[0m\u001b[0ms\u001b[0m \u001b[0;32mis\u001b[0m\u001b[0;34m\u001b[0m\u001b[0;34m\u001b[0m\u001b[0m\n\u001b[0;32m--> 602\u001b[0;31m             not implemented.''' % (type(self), args0)))\n\u001b[0m\u001b[1;32m    603\u001b[0m \u001b[0;34m\u001b[0m\u001b[0m\n\u001b[1;32m    604\u001b[0m     \u001b[0;32mdef\u001b[0m \u001b[0m_eval_nseries\u001b[0m\u001b[0;34m(\u001b[0m\u001b[0mself\u001b[0m\u001b[0;34m,\u001b[0m \u001b[0mx\u001b[0m\u001b[0;34m,\u001b[0m \u001b[0mn\u001b[0m\u001b[0;34m,\u001b[0m \u001b[0mlogx\u001b[0m\u001b[0;34m)\u001b[0m\u001b[0;34m:\u001b[0m\u001b[0;34m\u001b[0m\u001b[0;34m\u001b[0m\u001b[0m\n",
            "\u001b[0;31mPoleError\u001b[0m: \nAsymptotic expansion of besselj around [0, oo] is not implemented."
          ]
        }
      ],
      "execution_count": 12,
      "metadata": {
        "inputHidden": false,
        "outputHidden": true
      }
    },
    {
      "cell_type": "markdown",
      "source": [
        "Let us chech the *package* mpath to see if hypergeometric functions are of any help."
      ],
      "metadata": {}
    },
    {
      "cell_type": "code",
      "source": [
        "hyp0f1(2,x).series(x,0)"
      ],
      "outputs": [
        {
          "output_type": "error",
          "ename": "TypeError",
          "evalue": "cannot create mpf from x",
          "traceback": [
            "\u001b[0;31m---------------------------------------------------------------------------\u001b[0m",
            "\u001b[0;31mTypeError\u001b[0m                                 Traceback (most recent call last)",
            "\u001b[0;32m<ipython-input-17-abf1845f8149>\u001b[0m in \u001b[0;36m<module>\u001b[0;34m\u001b[0m\n\u001b[0;32m----> 1\u001b[0;31m \u001b[0mhyp0f1\u001b[0m\u001b[0;34m(\u001b[0m\u001b[0;36m2\u001b[0m\u001b[0;34m,\u001b[0m\u001b[0mx\u001b[0m\u001b[0;34m)\u001b[0m\u001b[0;34m.\u001b[0m\u001b[0mseries\u001b[0m\u001b[0;34m(\u001b[0m\u001b[0mx\u001b[0m\u001b[0;34m,\u001b[0m\u001b[0;36m0\u001b[0m\u001b[0;34m)\u001b[0m\u001b[0;34m\u001b[0m\u001b[0;34m\u001b[0m\u001b[0m\n\u001b[0m",
            "\u001b[0;32m~/anaconda3/lib/python3.6/site-packages/mpmath/functions/hypergeometric.py\u001b[0m in \u001b[0;36mhyp0f1\u001b[0;34m(ctx, b, z, **kwargs)\u001b[0m\n\u001b[1;32m    237\u001b[0m \u001b[0;34m@\u001b[0m\u001b[0mdefun\u001b[0m\u001b[0;34m\u001b[0m\u001b[0;34m\u001b[0m\u001b[0m\n\u001b[1;32m    238\u001b[0m \u001b[0;32mdef\u001b[0m \u001b[0mhyp0f1\u001b[0m\u001b[0;34m(\u001b[0m\u001b[0mctx\u001b[0m\u001b[0;34m,\u001b[0m\u001b[0mb\u001b[0m\u001b[0;34m,\u001b[0m\u001b[0mz\u001b[0m\u001b[0;34m,\u001b[0m\u001b[0;34m**\u001b[0m\u001b[0mkwargs\u001b[0m\u001b[0;34m)\u001b[0m\u001b[0;34m:\u001b[0m\u001b[0;34m\u001b[0m\u001b[0;34m\u001b[0m\u001b[0m\n\u001b[0;32m--> 239\u001b[0;31m     \u001b[0;32mreturn\u001b[0m \u001b[0mctx\u001b[0m\u001b[0;34m.\u001b[0m\u001b[0mhyper\u001b[0m\u001b[0;34m(\u001b[0m\u001b[0;34m[\u001b[0m\u001b[0;34m]\u001b[0m\u001b[0;34m,\u001b[0m\u001b[0;34m[\u001b[0m\u001b[0mb\u001b[0m\u001b[0;34m]\u001b[0m\u001b[0;34m,\u001b[0m\u001b[0mz\u001b[0m\u001b[0;34m,\u001b[0m\u001b[0;34m**\u001b[0m\u001b[0mkwargs\u001b[0m\u001b[0;34m)\u001b[0m\u001b[0;34m\u001b[0m\u001b[0;34m\u001b[0m\u001b[0m\n\u001b[0m\u001b[1;32m    240\u001b[0m \u001b[0;34m\u001b[0m\u001b[0m\n\u001b[1;32m    241\u001b[0m \u001b[0;34m@\u001b[0m\u001b[0mdefun\u001b[0m\u001b[0;34m\u001b[0m\u001b[0;34m\u001b[0m\u001b[0m\n",
            "\u001b[0;32m~/anaconda3/lib/python3.6/site-packages/mpmath/functions/hypergeometric.py\u001b[0m in \u001b[0;36mhyper\u001b[0;34m(ctx, a_s, b_s, z, **kwargs)\u001b[0m\n\u001b[1;32m    197\u001b[0m     \u001b[0mHypergeometric\u001b[0m \u001b[0mfunction\u001b[0m\u001b[0;34m,\u001b[0m \u001b[0mgeneral\u001b[0m \u001b[0mcase\u001b[0m\u001b[0;34m.\u001b[0m\u001b[0;34m\u001b[0m\u001b[0;34m\u001b[0m\u001b[0m\n\u001b[1;32m    198\u001b[0m     \"\"\"\n\u001b[0;32m--> 199\u001b[0;31m     \u001b[0mz\u001b[0m \u001b[0;34m=\u001b[0m \u001b[0mctx\u001b[0m\u001b[0;34m.\u001b[0m\u001b[0mconvert\u001b[0m\u001b[0;34m(\u001b[0m\u001b[0mz\u001b[0m\u001b[0;34m)\u001b[0m\u001b[0;34m\u001b[0m\u001b[0;34m\u001b[0m\u001b[0m\n\u001b[0m\u001b[1;32m    200\u001b[0m     \u001b[0mp\u001b[0m \u001b[0;34m=\u001b[0m \u001b[0mlen\u001b[0m\u001b[0;34m(\u001b[0m\u001b[0ma_s\u001b[0m\u001b[0;34m)\u001b[0m\u001b[0;34m\u001b[0m\u001b[0;34m\u001b[0m\u001b[0m\n\u001b[1;32m    201\u001b[0m     \u001b[0mq\u001b[0m \u001b[0;34m=\u001b[0m \u001b[0mlen\u001b[0m\u001b[0;34m(\u001b[0m\u001b[0mb_s\u001b[0m\u001b[0;34m)\u001b[0m\u001b[0;34m\u001b[0m\u001b[0;34m\u001b[0m\u001b[0m\n",
            "\u001b[0;32m~/anaconda3/lib/python3.6/site-packages/mpmath/ctx_mp_python.py\u001b[0m in \u001b[0;36mconvert\u001b[0;34m(ctx, x, strings)\u001b[0m\n\u001b[1;32m    667\u001b[0m             \u001b[0;32mtry\u001b[0m\u001b[0;34m:\u001b[0m \u001b[0;32mreturn\u001b[0m \u001b[0mctx\u001b[0m\u001b[0;34m.\u001b[0m\u001b[0mmake_mpf\u001b[0m\u001b[0;34m(\u001b[0m\u001b[0mfrom_Decimal\u001b[0m\u001b[0;34m(\u001b[0m\u001b[0mx\u001b[0m\u001b[0;34m,\u001b[0m \u001b[0mprec\u001b[0m\u001b[0;34m,\u001b[0m \u001b[0mrounding\u001b[0m\u001b[0;34m)\u001b[0m\u001b[0;34m)\u001b[0m\u001b[0;34m\u001b[0m\u001b[0;34m\u001b[0m\u001b[0m\n\u001b[1;32m    668\u001b[0m             \u001b[0;32mexcept\u001b[0m\u001b[0;34m:\u001b[0m \u001b[0;32mpass\u001b[0m\u001b[0;34m\u001b[0m\u001b[0;34m\u001b[0m\u001b[0m\n\u001b[0;32m--> 669\u001b[0;31m         \u001b[0;32mreturn\u001b[0m \u001b[0mctx\u001b[0m\u001b[0;34m.\u001b[0m\u001b[0m_convert_fallback\u001b[0m\u001b[0;34m(\u001b[0m\u001b[0mx\u001b[0m\u001b[0;34m,\u001b[0m \u001b[0mstrings\u001b[0m\u001b[0;34m)\u001b[0m\u001b[0;34m\u001b[0m\u001b[0;34m\u001b[0m\u001b[0m\n\u001b[0m\u001b[1;32m    670\u001b[0m \u001b[0;34m\u001b[0m\u001b[0m\n\u001b[1;32m    671\u001b[0m     \u001b[0;32mdef\u001b[0m \u001b[0mnpconvert\u001b[0m\u001b[0;34m(\u001b[0m\u001b[0mctx\u001b[0m\u001b[0;34m,\u001b[0m \u001b[0mx\u001b[0m\u001b[0;34m)\u001b[0m\u001b[0;34m:\u001b[0m\u001b[0;34m\u001b[0m\u001b[0;34m\u001b[0m\u001b[0m\n",
            "\u001b[0;32m~/anaconda3/lib/python3.6/site-packages/mpmath/ctx_mp.py\u001b[0m in \u001b[0;36m_convert_fallback\u001b[0;34m(ctx, x, strings)\u001b[0m\n\u001b[1;32m    632\u001b[0m             \u001b[0;32melse\u001b[0m\u001b[0;34m:\u001b[0m\u001b[0;34m\u001b[0m\u001b[0;34m\u001b[0m\u001b[0m\n\u001b[1;32m    633\u001b[0m                 \u001b[0;32mraise\u001b[0m \u001b[0mValueError\u001b[0m\u001b[0;34m(\u001b[0m\u001b[0;34m\"can only create mpf from zero-width interval\"\u001b[0m\u001b[0;34m)\u001b[0m\u001b[0;34m\u001b[0m\u001b[0;34m\u001b[0m\u001b[0m\n\u001b[0;32m--> 634\u001b[0;31m         \u001b[0;32mraise\u001b[0m \u001b[0mTypeError\u001b[0m\u001b[0;34m(\u001b[0m\u001b[0;34m\"cannot create mpf from \"\u001b[0m \u001b[0;34m+\u001b[0m \u001b[0mrepr\u001b[0m\u001b[0;34m(\u001b[0m\u001b[0mx\u001b[0m\u001b[0;34m)\u001b[0m\u001b[0;34m)\u001b[0m\u001b[0;34m\u001b[0m\u001b[0;34m\u001b[0m\u001b[0m\n\u001b[0m\u001b[1;32m    635\u001b[0m \u001b[0;34m\u001b[0m\u001b[0m\n\u001b[1;32m    636\u001b[0m     \u001b[0;32mdef\u001b[0m \u001b[0mmpmathify\u001b[0m\u001b[0;34m(\u001b[0m\u001b[0mctx\u001b[0m\u001b[0;34m,\u001b[0m \u001b[0;34m*\u001b[0m\u001b[0margs\u001b[0m\u001b[0;34m,\u001b[0m \u001b[0;34m**\u001b[0m\u001b[0mkwargs\u001b[0m\u001b[0;34m)\u001b[0m\u001b[0;34m:\u001b[0m\u001b[0;34m\u001b[0m\u001b[0;34m\u001b[0m\u001b[0m\n",
            "\u001b[0;31mTypeError\u001b[0m: cannot create mpf from x"
          ]
        }
      ],
      "execution_count": 17,
      "metadata": {
        "inputHidden": false,
        "outputHidden": true
      }
    },
    {
      "cell_type": "markdown",
      "source": [
        "NO. This a floating-point package, not for symbolic manipulation."
      ],
      "metadata": {}
    },
    {
      "cell_type": "code",
      "source": [
        "f = fps(sin(x))"
      ],
      "outputs": [],
      "execution_count": 13,
      "metadata": {
        "inputHidden": false,
        "outputHidden": false
      }
    },
    {
      "cell_type": "code",
      "source": [
        "integrate(f,(x,0,1))"
      ],
      "outputs": [
        {
          "output_type": "execute_result",
          "execution_count": 16,
          "data": {
            "image/png": "[encoded data removed]",
            "text/latex": [
              "$$- \\cos{\\left (1 \\right )} + 1$$"
            ],
            "text/plain": [
              "-cos(1) + 1"
            ]
          },
          "metadata": {}
        }
      ],
      "execution_count": 16,
      "metadata": {
        "inputHidden": false,
        "outputHidden": false
      }
    },
    {
      "cell_type": "code",
      "source": [
        "f.truncate()"
      ],
      "outputs": [
        {
          "output_type": "execute_result",
          "execution_count": 19,
          "data": {
            "image/png": "[encoded data removed]",
            "text/latex": [
              "$$x - \\frac{x^{3}}{6} + \\frac{x^{5}}{120} + O\\left(x^{6}\\right)$$"
            ],
            "text/plain": [
              "     3     5        \n",
              "    x     x     ⎛ 6⎞\n",
              "x - ── + ─── + O⎝x ⎠\n",
              "    6    120        "
            ]
          },
          "metadata": {}
        }
      ],
      "execution_count": 19,
      "metadata": {
        "inputHidden": false,
        "outputHidden": false
      }
    },
    {
      "cell_type": "code",
      "source": [
        "g=fps(besselj(1,x))"
      ],
      "outputs": [],
      "execution_count": 21,
      "metadata": {
        "inputHidden": false,
        "outputHidden": false
      }
    }
  ],
  "metadata": {
    "kernel_info": {
      "name": "wolfram_kernel"
    },
    "kernelspec": {
      "name": "wolfram_kernel",
      "language": "mathematica",
      "display_name": "Wolfram Mathematica"
    },
    "language_info": {
      "exec": "/Applications/Mathematica.app/Contents/MacOS/wmath",
      "mimetype": "text/x-mathics",
      "codemirror_mode": "mathematica",
      "name": "Mathematica",
      "file_extension": ".m",
      "help_links": [
        {
          "text": "MetaKernel Magics",
          "url": "https://github.com/calysto/metakernel/blob/master/metakernel/magics/README.md"
        }
      ],
      "version": "0.0.0"
    },
    "nteract": {
      "version": "0.14.0"
    },
    "gist_id": "2b22d6b5e98fe7c2487c6401609b6d0d"
  },
  "nbformat": 4,
  "nbformat_minor": 4
}